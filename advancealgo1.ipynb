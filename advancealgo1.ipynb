{
  "nbformat": 4,
  "nbformat_minor": 0,
  "metadata": {
    "colab": {
      "provenance": [],
      "authorship_tag": "ABX9TyNuUMpiG8wdVkjFeIzFlE1o",
      "include_colab_link": true
    },
    "kernelspec": {
      "name": "python3",
      "display_name": "Python 3"
    },
    "language_info": {
      "name": "python"
    }
  },
  "cells": [
    {
      "cell_type": "markdown",
      "metadata": {
        "id": "view-in-github",
        "colab_type": "text"
      },
      "source": [
        "<a href=\"https://colab.research.google.com/github/preetirawat2001/Projects_/blob/main/advancealgo1.ipynb\" target=\"_parent\"><img src=\"https://colab.research.google.com/assets/colab-badge.svg\" alt=\"Open In Colab\"/></a>"
      ]
    },
    {
      "cell_type": "markdown",
      "source": [
        "Q-1. Create a modified version of Selection Sort using the divide and conquer paradigm. Also Write its\n",
        "recurrence equation."
      ],
      "metadata": {
        "id": "JCWUIhSwCLex"
      }
    },
    {
      "cell_type": "code",
      "execution_count": 1,
      "metadata": {
        "colab": {
          "base_uri": "https://localhost:8080/"
        },
        "id": "EsTcWyzwCC7K",
        "outputId": "1d4c0e1f-0733-46e0-bbb6-f458c84ef664"
      },
      "outputs": [
        {
          "output_type": "stream",
          "name": "stdout",
          "text": [
            "[11, 12, 22, 25, 64]\n"
          ]
        }
      ],
      "source": [
        "def divide_and_conquer_selection_sort(arr, left, right):\n",
        "    if left >= right:\n",
        "        return\n",
        "\n",
        "    # Divide the array into two halves\n",
        "    mid = (left + right) // 2\n",
        "\n",
        "    # Recursively sort the left half\n",
        "    divide_and_conquer_selection_sort(arr, left, mid)\n",
        "\n",
        "    # Recursively sort the right half\n",
        "    divide_and_conquer_selection_sort(arr, mid + 1, right)\n",
        "\n",
        "    # Combine the two sorted halves by selecting the smallest element\n",
        "    merge_by_selection(arr, left, mid, right)\n",
        "\n",
        "def merge_by_selection(arr, left, mid, right):\n",
        "    temp = []\n",
        "    i, j = left, mid + 1\n",
        "\n",
        "    # Select the smaller element from both halves and place it in the temp array\n",
        "    while i <= mid and j <= right:\n",
        "        if arr[i] <= arr[j]:\n",
        "            temp.append(arr[i])\n",
        "            i += 1\n",
        "        else:\n",
        "            temp.append(arr[j])\n",
        "            j += 1\n",
        "\n",
        "    # Collect remaining elements from the left half\n",
        "    while i <= mid:\n",
        "        temp.append(arr[i])\n",
        "        i += 1\n",
        "\n",
        "    # Collect remaining elements from the right half\n",
        "    while j <= right:\n",
        "        temp.append(arr[j])\n",
        "        j += 1\n",
        "\n",
        "    # Copy sorted elements back into the original array\n",
        "    for k in range(len(temp)):\n",
        "        arr[left + k] = temp[k]\n",
        "\n",
        "# Example Usage:\n",
        "arr = [64, 25, 12, 22, 11]\n",
        "divide_and_conquer_selection_sort(arr, 0, len(arr) - 1)\n",
        "print(arr)  # Output: [11, 12, 22, 25, 64]\n"
      ]
    },
    {
      "cell_type": "markdown",
      "source": [
        "Recurrence Equation\n",
        "Let\n",
        "T(n) be the time complexity for sorting an array of size n.\n",
        "\n",
        "Divide: We divide the array into two halves. This takes constant time, i.e.,\n",
        "𝑂(1).\n",
        "Conquer: The conquer step involves two recursive calls on two subarrays of size n/2, i.e., T(n/2) for each half.\n",
        "Combine: Merging the two halves requires iterating over the entire array (to find the smallest elements), which takes O(n).\n",
        "Thus, the recurrence relation is:\n",
        "T(n)=2T(n/2)+O(n)\n",
        "This recurrence equation is similar to that of Merge Sort, and using the Master Theorem, we can solve it as:\n",
        "T(n)=O(nlogn)"
      ],
      "metadata": {
        "id": "qeB7ScUpC4-i"
      }
    },
    {
      "cell_type": "markdown",
      "source": [
        "Q-2. Cubic integer root x of n is largest number x such that x 3 &lt;=n. Find the value of x given n using divide\n",
        "and conquer approach. Also analyze the complexity."
      ],
      "metadata": {
        "id": "JO-cc2mBCvj5"
      }
    },
    {
      "cell_type": "code",
      "source": [
        "def cubic_root(n):\n",
        "    if n == 0:  # Edge case\n",
        "        return 0\n",
        "\n",
        "    low, high = 0, n\n",
        "\n",
        "    while low <= high:\n",
        "        mid = (low + high) // 2\n",
        "        mid_cubed = mid ** 3\n",
        "\n",
        "        if mid_cubed == n:\n",
        "            return mid  # Exact cubic root found\n",
        "        elif mid_cubed < n:\n",
        "            low = mid + 1  # Move right\n",
        "        else:\n",
        "            high = mid - 1  # Move left\n",
        "\n",
        "    return high  # `high` will be the largest integer where `high^3 <= n`\n",
        "\n",
        "# Example Usage\n",
        "n = 27\n",
        "result = cubic_root(n)\n",
        "print(result)  # Output: 3\n"
      ],
      "metadata": {
        "colab": {
          "base_uri": "https://localhost:8080/"
        },
        "id": "V0euMWt0CzQG",
        "outputId": "96211b70-126e-44e2-e2d4-d6149bc5ae7a"
      },
      "execution_count": 2,
      "outputs": [
        {
          "output_type": "stream",
          "name": "stdout",
          "text": [
            "3\n"
          ]
        }
      ]
    },
    {
      "cell_type": "markdown",
      "source": [
        "Complexity Analysis:\n",
        "Time Complexity: The time complexity of binary search is O(logn), because at each step we are halving the search space. Specifically, since we're reducing the range of possible values of x, the number of operations is proportional to the logarithm of n.\n",
        "Space Complexity: The space complexity is O(1), as we are only using a constant amount of extra space for the variables low, high, and mid."
      ],
      "metadata": {
        "id": "zOaYgSOzDm9o"
      }
    },
    {
      "cell_type": "markdown",
      "source": [
        "Q-3. Given a sorted array in which all elements appear twice (one after one) and one element appears only\n",
        "once. Find that element in O(log n) complexity.\n",
        "Example:\n",
        "Input: arr[] = {1, 1, 3, 3, 4, 5, 5, 7, 7, 8, 8} Output: 4\n",
        "Input: arr[] = {1, 1, 3, 3, 4, 4, 5, 5, 7, 7, 8} Output: 8"
      ],
      "metadata": {
        "id": "9AuOEjT8EAUJ"
      }
    },
    {
      "cell_type": "code",
      "source": [
        "def find_single_element(arr):\n",
        "    low, high = 0, len(arr) - 1\n",
        "\n",
        "    # Edge case: If there's only one element, return it\n",
        "    if len(arr) == 1:\n",
        "        return arr[0]\n",
        "\n",
        "    while low < high:\n",
        "        mid = low + (high - low) // 2\n",
        "\n",
        "        # Ensure mid is even to check its pair correctly\n",
        "        if mid % 2 == 1:\n",
        "            mid -= 1\n",
        "\n",
        "        # Check if the pair is broken\n",
        "        if arr[mid] == arr[mid + 1]:\n",
        "            # Pair is correct, so single element is in the second half\n",
        "            low = mid + 2\n",
        "        else:\n",
        "            # Pair is broken, so single element is in the first half\n",
        "            high = mid\n",
        "\n",
        "    # At the end, low will point to the single element\n",
        "    return arr[low]\n",
        "\n",
        "# Example Usage\n",
        "arr1 = [1, 1, 3, 3, 4, 5, 5, 7, 7, 8, 8]\n",
        "arr2 = [1, 1, 3, 3, 4, 4, 5, 5, 7, 7, 8]\n",
        "print(find_single_element(arr1))  # Output: 4\n",
        "print(find_single_element(arr2))  # Output: 8\n"
      ],
      "metadata": {
        "colab": {
          "base_uri": "https://localhost:8080/"
        },
        "id": "ZpOl1m3mD5ic",
        "outputId": "cac67150-641d-481e-dd57-3e0984dd2498"
      },
      "execution_count": 3,
      "outputs": [
        {
          "output_type": "stream",
          "name": "stdout",
          "text": [
            "4\n",
            "8\n"
          ]
        }
      ]
    },
    {
      "cell_type": "markdown",
      "source": [
        "Binary Search:\n",
        "\n",
        "Start with low = 0 and high = len(arr) - 1.\n",
        "Calculate mid = low + (high - low) // 2.\n",
        "Adjust mid to be even, so we can compare it with its next element.\n",
        "If arr[mid] == arr[mid+1], it means the single element must be in the second half (low = mid + 2).\n",
        "Otherwise, it means the single element is in the first half (high = mid).\n",
        "Base Case:\n",
        "\n",
        "The loop continues until low == high, which will point to the single element.\n",
        "Time Complexity:O(logn) because we are halving the search space with each iteration.\n",
        "Space Complexity:O(1), as we are using only a constant amount of extra space."
      ],
      "metadata": {
        "id": "60RMJlHsEqbg"
      }
    },
    {
      "cell_type": "markdown",
      "source": [
        "Q-6. Consider a sorted array A of n elements. The array A may have repetitive/duplicate elements. For a\n",
        "given target element T, design and implement an efficient algorithm to find T’s first and last occurrence\n",
        "in the array A. Also print the message if an element was not present in the array.\n",
        "Input:\n",
        "arr = [2, 5, 5, 5, 6, 6, 8, 9, 9, 9]\n",
        "target = 5\n",
        "Output:\n",
        "The first occurrence of element 5 is located at\n",
        "index 1 The last occurrence of element 5 is located\n",
        "at index 3"
      ],
      "metadata": {
        "id": "Sl8uoQvRFNYQ"
      }
    },
    {
      "cell_type": "code",
      "source": [
        "def find_first_occurrence(arr, target):\n",
        "    low, high = 0, len(arr) - 1\n",
        "    first_occurrence = -1\n",
        "\n",
        "    while low <= high:\n",
        "        mid = (low + high) // 2\n",
        "\n",
        "        if arr[mid] == target:\n",
        "            first_occurrence = mid\n",
        "            high = mid - 1  # Move to the left half\n",
        "        elif arr[mid] < target:\n",
        "            low = mid + 1\n",
        "        else:\n",
        "            high = mid - 1\n",
        "\n",
        "    return first_occurrence\n",
        "\n",
        "def find_last_occurrence(arr, target):\n",
        "    low, high = 0, len(arr) - 1\n",
        "    last_occurrence = -1\n",
        "\n",
        "    while low <= high:\n",
        "        mid = (low + high) // 2\n",
        "\n",
        "        if arr[mid] == target:\n",
        "            last_occurrence = mid\n",
        "            low = mid + 1  # Move to the right half\n",
        "        elif arr[mid] < target:\n",
        "            low = mid + 1\n",
        "        else:\n",
        "            high = mid - 1\n",
        "\n",
        "    return last_occurrence\n",
        "\n",
        "def find_first_and_last_occurrence(arr, target):\n",
        "    first = find_first_occurrence(arr, target)\n",
        "    last = find_last_occurrence(arr, target)\n",
        "\n",
        "    if first == -1 or last == -1:\n",
        "        print(f\"Element {target} is not present in the array.\")\n",
        "    else:\n",
        "        print(f\"The first occurrence of element {target} is located at index {first}\")\n",
        "        print(f\"The last occurrence of element {target} is located at index {last}\")\n",
        "\n",
        "# Example Usage\n",
        "arr = [2, 5, 5, 5, 6, 6, 8, 9, 9, 9]\n",
        "target = 5\n",
        "find_first_and_last_occurrence(arr, target)\n"
      ],
      "metadata": {
        "colab": {
          "base_uri": "https://localhost:8080/"
        },
        "id": "915GPph0Et8W",
        "outputId": "94e55a52-417a-4b08-8779-c05d62ce5cb0"
      },
      "execution_count": 4,
      "outputs": [
        {
          "output_type": "stream",
          "name": "stdout",
          "text": [
            "The first occurrence of element 5 is located at index 1\n",
            "The last occurrence of element 5 is located at index 3\n"
          ]
        }
      ]
    },
    {
      "cell_type": "markdown",
      "source": [
        "Time Complexity:\n",
        "O(logn) for each search (first and last occurrence), so the total time complexity is O(logn).\n",
        "Space Complexity: O(1), as we are using a constant amount of space."
      ],
      "metadata": {
        "id": "DdtSIzJGFXOM"
      }
    },
    {
      "cell_type": "markdown",
      "source": [
        "Q-7. Given an array, count the number of inversions using a divide and conquer approach.\n",
        "Example\n",
        "Input: arr[] = {8, 4, 2, 1}\n",
        "Output: 6 inversions: (8, 4), (4, 2), (8, 2), (8, 1), (4, 1), (2, 1)."
      ],
      "metadata": {
        "id": "Wd6Z8M9nFkxq"
      }
    },
    {
      "cell_type": "code",
      "source": [
        "def merge_and_count(arr, temp_arr, left, mid, right):\n",
        "    i = left    # Starting index for left subarray\n",
        "    j = mid + 1 # Starting index for right subarray\n",
        "    k = left    # Starting index to be sorted\n",
        "    inv_count = 0\n",
        "\n",
        "    # Merge the two subarrays\n",
        "    while i <= mid and j <= right:\n",
        "        if arr[i] <= arr[j]:\n",
        "            temp_arr[k] = arr[i]\n",
        "            i += 1\n",
        "        else:\n",
        "            temp_arr[k] = arr[j]\n",
        "            inv_count += (mid - i + 1)  # All elements from i to mid are greater than arr[j]\n",
        "            j += 1\n",
        "        k += 1\n",
        "\n",
        "    # Copy the remaining elements of left subarray, if any\n",
        "    while i <= mid:\n",
        "        temp_arr[k] = arr[i]\n",
        "        i += 1\n",
        "        k += 1\n",
        "\n",
        "    # Copy the remaining elements of right subarray, if any\n",
        "    while j <= right:\n",
        "        temp_arr[k] = arr[j]\n",
        "        j += 1\n",
        "        k += 1\n",
        "\n",
        "    # Copy the sorted subarray into original array\n",
        "    for i in range(left, right + 1):\n",
        "        arr[i] = temp_arr[i]\n",
        "\n",
        "    return inv_count\n",
        "\n",
        "def merge_sort_and_count(arr, temp_arr, left, right):\n",
        "    inv_count = 0\n",
        "    if left < right:\n",
        "        mid = (left + right) // 2\n",
        "\n",
        "        inv_count += merge_sort_and_count(arr, temp_arr, left, mid)\n",
        "        inv_count += merge_sort_and_count(arr, temp_arr, mid + 1, right)\n",
        "\n",
        "        inv_count += merge_and_count(arr, temp_arr, left, mid, right)\n",
        "\n",
        "    return inv_count\n",
        "\n",
        "def count_inversions(arr):\n",
        "    n = len(arr)\n",
        "    temp_arr = [0] * n\n",
        "    return merge_sort_and_count(arr, temp_arr, 0, n - 1)\n",
        "\n",
        "# Example Usage\n",
        "arr = [8, 4, 2, 1]\n",
        "inversions = count_inversions(arr)\n",
        "print(f\"Number of inversions: {inversions}\")\n"
      ],
      "metadata": {
        "colab": {
          "base_uri": "https://localhost:8080/"
        },
        "id": "F4Toc4xmF5TY",
        "outputId": "498045b7-b5e4-497a-a061-60869d615d90"
      },
      "execution_count": 5,
      "outputs": [
        {
          "output_type": "stream",
          "name": "stdout",
          "text": [
            "Number of inversions: 6\n"
          ]
        }
      ]
    },
    {
      "cell_type": "markdown",
      "source": [
        "Time Complexity:The time complexity of this approach is O(nlogn), where n is the size of the array. This is due to the merge sort algorithm, which divides the array into two halves and then merges them back while counting inversions.\n",
        "\n",
        "Space Complexity: The space complexity is O(n), as we need a temporary array to help with the merging process."
      ],
      "metadata": {
        "id": "Zr7vpJiCF9ly"
      }
    },
    {
      "cell_type": "markdown",
      "source": [
        "Q-8. Given an array, find the majority element (an element that appears more than n/2 times) using a divide\n",
        "and conquer algorithm.\n",
        "Input : A[]={3, 3, 4, 2, 4, 4, 2, 4, 4}\n",
        "Output : 4\n",
        "Explanation: The frequency of 4 is 5 which is\n",
        "greater than the half of the size of the array size."
      ],
      "metadata": {
        "id": "gZgUZXGlGR_f"
      }
    },
    {
      "cell_type": "code",
      "source": [
        "def find_majority_element(arr):\n",
        "    def majority_element_rec(arr, left, right):\n",
        "        # Base case: if there's only one element, it's the majority element.\n",
        "        if left == right:\n",
        "            return arr[left]\n",
        "\n",
        "        # Recursively divide the array into two halves\n",
        "        mid = (left + right) // 2\n",
        "        left_majority = majority_element_rec(arr, left, mid)\n",
        "        right_majority = majority_element_rec(arr, mid + 1, right)\n",
        "\n",
        "        # If both halves agree on the majority element, return it.\n",
        "        if left_majority == right_majority:\n",
        "            return left_majority\n",
        "\n",
        "        # Otherwise, count each element in the current range and return the one with the higher count.\n",
        "        left_count = sum(1 for i in range(left, right + 1) if arr[i] == left_majority)\n",
        "        right_count = sum(1 for i in range(left, right + 1) if arr[i] == right_majority)\n",
        "\n",
        "        # Return the element that appears more frequently.\n",
        "        return left_majority if left_count > right_count else right_majority\n",
        "\n",
        "    return majority_element_rec(arr, 0, len(arr) - 1)\n",
        "\n",
        "# Example usage\n",
        "arr = [3, 3, 4, 2, 4, 4, 2, 4, 4]\n",
        "result = find_majority_element(arr)\n",
        "print(f\"Majority element is: {result}\")\n"
      ],
      "metadata": {
        "colab": {
          "base_uri": "https://localhost:8080/"
        },
        "id": "Gc035OuWGmSp",
        "outputId": "e29e92cf-502a-46ae-af88-155ee36049ee"
      },
      "execution_count": 6,
      "outputs": [
        {
          "output_type": "stream",
          "name": "stdout",
          "text": [
            "Majority element is: 4\n"
          ]
        }
      ]
    },
    {
      "cell_type": "markdown",
      "source": [
        "Time Complexity: The time complexity of this algorithm is O(nlogn). This is because the array is divided into two halves at each step (similar to merge sort), and counting the majority element in each half takes O(n) time.\n",
        "\n",
        "Space Complexity: The space complexity is O(logn), due to the recursion stack space required for the divide and conquer approach."
      ],
      "metadata": {
        "id": "RS5Ev_6KGrCo"
      }
    },
    {
      "cell_type": "markdown",
      "source": [
        "Q-9. Find the k-th smallest or largest element in an array using a divide and conquer approach. Write\n",
        "recurrence relation of your proposed solution."
      ],
      "metadata": {
        "id": "OzTSozxoG5Jt"
      }
    },
    {
      "cell_type": "code",
      "source": [
        "import random\n",
        "\n",
        "def partition(arr, low, high):\n",
        "    pivot = arr[high]\n",
        "    i = low - 1\n",
        "\n",
        "    for j in range(low, high):\n",
        "        if arr[j] <= pivot:\n",
        "            i += 1\n",
        "            arr[i], arr[j] = arr[j], arr[i]\n",
        "\n",
        "    arr[i + 1], arr[high] = arr[high], arr[i + 1]\n",
        "    return i + 1\n",
        "\n",
        "def quickselect(arr, low, high, k):\n",
        "    if low == high:  # Only one element in the array\n",
        "        return arr[low]\n",
        "\n",
        "    # Select a pivot and partition the array\n",
        "    pivot_index = partition(arr, low, high)\n",
        "\n",
        "    if pivot_index == k:\n",
        "        return arr[pivot_index]\n",
        "    elif pivot_index > k:\n",
        "        return quickselect(arr, low, pivot_index - 1, k)\n",
        "    else:\n",
        "        return quickselect(arr, pivot_index + 1, high, k)\n",
        "\n",
        "def find_kth_smallest(arr, k):\n",
        "    return quickselect(arr, 0, len(arr) - 1, k - 1)\n",
        "\n",
        "# Example usage\n",
        "arr = [7, 10, 4, 3, 20, 15]\n",
        "k = 3\n",
        "result = find_kth_smallest(arr, k)\n",
        "print(f\"The {k}-th smallest element is {result}\")\n"
      ],
      "metadata": {
        "colab": {
          "base_uri": "https://localhost:8080/"
        },
        "id": "edvEh305HDDC",
        "outputId": "d1600504-142a-4e8b-fc85-9476a5172f8f"
      },
      "execution_count": 7,
      "outputs": [
        {
          "output_type": "stream",
          "name": "stdout",
          "text": [
            "The 3-th smallest element is 7\n"
          ]
        }
      ]
    },
    {
      "cell_type": "markdown",
      "source": [
        "Explanation of the Algorithm:\n",
        "Partitioning: The array is partitioned around a pivot. After partitioning, the pivot is placed in its correct sorted position.\n",
        "Divide and Conquer: After partitioning, we compare the index of the pivot with k−1. If it matches, the pivot is the k-th smallest element. Otherwise, we recursively apply the quickselect algorithm to either the left or right subarray.\n",
        "\n",
        "Recurrence Relation:The recurrence relation for Quickselect is similar to Quicksort: T(n)=T(n/2)+O(n)\n",
        "In the best case, the partitioning splits the array evenly, so the problem size reduces by half each time. This gives us the recurrence: T(n)=T(n/2)+O(n) This simplifies to O(n) in the average case because the recursion depth is O(logn), and at each level, we do linear work.\n",
        "\n",
        "Time Complexity:\n",
        "Best/Average Case: O(n). In the average case, Quickselect reduces the problem size by about half at each step.\n",
        "Worst Case: O(n^2). In the worst case (if the pivot is always the smallest or largest element), the array is partitioned unevenly, leading to n recursive calls.\n",
        "Space Complexity:The space complexity is O(logn) due to the recursion stack.\n",
        "\n",
        "Finding the k-th Largest Element:To find the k-th largest element, you can simply adjust the algorithm by searching for the (n−k)-th smallest element, where n is the size of the array."
      ],
      "metadata": {
        "id": "s7Up3HCQHGiP"
      }
    },
    {
      "cell_type": "code",
      "source": [
        "def find_kth_largest(arr, k):\n",
        "    n = len(arr)\n",
        "    return quickselect(arr, 0, n - 1, n - k)\n",
        "\n",
        "# Example usage\n",
        "arr = [7, 10, 4, 3, 20, 15]\n",
        "k = 2\n",
        "result = find_kth_largest(arr, k)\n",
        "print(f\"The {k}-th largest element is {result}\")\n"
      ],
      "metadata": {
        "colab": {
          "base_uri": "https://localhost:8080/"
        },
        "id": "MbCutSbIH1Bk",
        "outputId": "5d554ba4-a39c-414c-e2b7-87bc5c37be64"
      },
      "execution_count": 8,
      "outputs": [
        {
          "output_type": "stream",
          "name": "stdout",
          "text": [
            "The 2-th largest element is 15\n"
          ]
        }
      ]
    }
  ]
}